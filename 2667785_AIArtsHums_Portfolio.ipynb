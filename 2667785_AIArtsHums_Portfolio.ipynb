{
 "cells": [
  {
   "cell_type": "markdown",
   "id": "6f6bd06e-d5fa-4d00-afad-df093f124b57",
   "metadata": {},
   "source": [
    "<h1>Renewed Scripture, Renewed Hope: Disability Through the Lens of the New Testament</h1>"
   ]
  },
  {
   "cell_type": "markdown",
   "id": "545f3330-2d27-4a28-b4f1-5a3e20f0100f",
   "metadata": {},
   "source": [
    "<h2>Introduction</h2>\n",
    "<p>The Bible has influenced language, imagery, and society, becoming what Hull describes as the 'norm' for countless generations in western society. Its narratives also hold the potential to empower individuals; this is particularly relevant for disabled people whom biblical stories have the potential to offer a source of liberation given the roles and contributions of disabled figures. Despite the few references to characters with disabilities in the New Testament, figures like Paul—who, as Hull suggests, may have lived with a visual impairment following his conversion—embody the impact that disabled individuals had on both society and history (Hull 2001: 84–91). Yet, accessing these narratives presents barriers. Historically, the majority of people in western nations were illiterate and biblical knowledge was passed through church paintings, stained glass, and oral tradition; perhaps this is more accessible than modern Christianity following the text. As we navigate the modern world, challenges persist in terms of accessibility and barriers affecting disabled people’s ability in accessing the Bible's pages independently. </p>"
   ]
  },
  {
   "cell_type": "markdown",
   "id": "0009d535-bdb4-4be0-957d-c6657ff29c02",
   "metadata": {},
   "source": [
    "<h2>Context</h2>\n",
    "<p>AI art and printing share a closer relationship than we might initially think. The advent of printmaking and the printing press was a pivotal milestone in the history of art and technology, revolutionizing how we produce, consume, and interpret art. Similarly, AI has initiated another evolutionary leap that impacted these processes and prompts us to further our understanding of creativity. The intent behind this project is to focus on the intersection of accessibility, generative AI, and religion. The main question here is how religious objects can best be approached to encourage a dialogue among a wider audience, using generative AI. Paine criticizes the idea that encountering religious objects is limited to a mental and disembodied experience and suggests that religious objects have more to offer than appreciation for their aesthetic: \"It’s not until one has seen religious objects in use – either in an actual way or in some virtual way – that they truly come alive, that one can get a glimpse, if you like, into the souls of these objects\". </p>\n",
    "\n",
    "<p> Building upon this, this project explores generative AI to further explore the Raised Type New Testament, originally in Greek and formally translated and printed by the New York American Bible Society. This project requires access to the University of Glasgow's Special Collections for digitisation. This is available for public access but prior booking is necessary at the <a href=\"https://www.gla.ac.uk/myglasgow/archivespecialcollections/\">University of Glasgow Archives & Special Collections</a>. Many thanks goes to Robert McClean for guiding this project and showcasing the objects virtually and in person.</p>\n",
    "\n",
    "<p>The essence of religious artifacts, including the Raised Type New Testament, can be connected with their historical context. This connection is not only about the physicality of these objects but also their role in the practice of faith, as highlighted by Paine's perspective. Paine argues that religion transcends a system of ideas, emphasizing it as a practice rooted in tangible objects. In this light, the Raised Type Bible embodies more than just a text; it represents the history of a practice of engaging with the sacred, making it a critical tool for inclusivity and accessibility in religion.</p>\n",
    "\n"
   ]
  },
  {
   "cell_type": "markdown",
   "id": "c406c39f-84e9-4781-bee3-b1a5a727bd6d",
   "metadata": {},
   "source": [
    "<h2>Objectives</h2>\n",
    "<p>The overall objective of this project is to engage with the Raised Type New Testament beyond its religious context by presenting it as a cultural artifact. It aims to explore to situate the object within its cultural and historical context. By doing so, it aims appeals to a broader audience that is interested not only in theology but also hidden histories of disablity and accessible practices. The Raised Type New Testament ought to be recognised not just as a religious scripture but as a cultural object that reflects early accounts of accessible practices. \n",
    "The intended outcomes are:<p>\n",
    "<ul>\n",
    "<li>Develop an accompanying multimedia project to the Raised Type New Testament based on biblical stories focusing on a re-imagined script with the disabled people.</li>\n",
    "<li>Employ AI technologies to transform the Raised Type New Testament into various accessible formats, including audio narration, and visual imagery, ensuring that the text is approachable for users with diverse accessibility needs.</li>\n",
    "<li>Assess the effectiveness of AI tools in accurately and sensitively translating the complex religious and cultural content of the Raised Type New Testament into different formats, ensuring that the resulting narratives remain true to the original text.  </li>\n",
    "</ul>\n",
    "</p>"
   ]
  },
  {
   "cell_type": "markdown",
   "id": "39578b32-d333-4201-bb50-11c382bbb1cc",
   "metadata": {},
   "source": [
    "<h2>Knowledge & Themes</h2>\n",
    "<ul>\n",
    "  <li>Contemporary Religion: The project delves into the Bible's relevance in a post-Christian and post-secular context, presenting the Raised Type Bible as both a religious text and a critical artifact of accessibility history.</li>\n",
    "  <li>Cultural Preservation: Acknowledging the physical delicacy of the Raised Type New Testament, this project explores how generative AI can help engage a broader audience with this unique format, sparking dialogue about an often-overlooked theme—disability.</li>\n",
    "  <li>Historical and Cultural Significance: The exhibition of the Raised Type New Testament aims to underscore its influence on European culture—and by extension, global history as a result of colonialism—inviting a diverse audience to engage with its lesser-known stories and historical impact.</li></ul>"
   ]
  },
  {
   "cell_type": "markdown",
   "id": "b53c9d53-13f4-4ffe-8d31-17db540477c2",
   "metadata": {},
   "source": [
    "<h2>Methodology</h2>\n",
    "<p>Employ multimedia displays and interactive technologies to enhance the historical and cultural contexts of religious exhibits. These tools will allow visitors to see religious artifacts in use, providing a window into their 'souls' and the roles they play within their respective faith traditions. Our methodology promotes a comprehensive approach to displaying religious objects in museums that considers their practical, historical, and cultural significance. By doing so, we aim to foster a deeper, more empathetic dialogue among visitors of diverse backgrounds, moving beyond mere aesthetic appreciation to a richer understanding of these objects' place in cultural heritage</p>\n",
    "<h3>Research Question</h3>\n",
    "<ul><li>\"How can Human-AI collaboration effectively transform the raised type New Testament Bible into an inclusive cultural object, facilitating deeper engagement and dialogue among a wider audience?\"</li></ul>\n",
    "<h3>Workflow</h3>\n",
    "<img src=\"Media/workflow.png\" alt=\"Image of the workflow in this project\">\n",
    "<h3>Technologies Used</h3>\n",
    "<ul>\n",
    "<li>Digitisation & Optical Character Recognition</li>\n",
    "<p>The process began with digitizing the text through high-resolution scanning using an iPhone 14 camera, which provided the necessary image quality. Following this, preprocessing steps were undertaken to optimize the image; notably, the file size was reduced using Microsoft Paint to facilitate easier handling. To convert the captured image into machine-readable text, the <a href=\"https://www.imagetotext.info/\">imagetotext</a> platform was utilized, which offers its services free of charge and without requiring login information. At the core of this conversion process lies Optical Character Recognition (OCR) technology. OCR employs pattern recognition and machine learning algorithms, such as neural networks, to meticulously identify and classify each character captured within the document. This intricate process includes comparing the elements of the scanned image against a database of known characters and interpreting the text's structure. The ultimate goal is to transform the information into a digital format that accurately mirrors the original document, thus enabling functionalities like text search and editing, all while retaining the integrity of the original text.</p>\n",
    "<li>Narration</li>\n",
    "<p>For narration purposes, \"BibleGPT\" was employed, which is a custom library available at ChatGPT. This variant is developed through a process called fine-tuning, which involves training the original model with additional datasets, integrating bespoke instructions, and a range of capabilities tailored to specific use. The development of BibleGPT involved enhancing the base model's capabilities by introducing targeted data sets, thereby expanding its comprehension and response capabilities in context-specific domains, aka the bible. Access to the standard ChatGPT platform is available at no cost and requires users to register for an account. However, BibleGPT necessitates access to the GPT-4, which needs subscription behind a paywall. BibleGPT was developed by <a href=\"https://chat.openai.com/g/g-17Xx6gBcE-biblegpt?utm_source=gptshunter.com\">Daniel Abraham</a>.</p>\n",
    "<li>Image Generation</li>\n",
    "<p>The script-to-image generator is an advanced tool designed to convert textual scripts into visual images, effectively <a href=\"https://chat.openai.com/g/g-u6ooEbi8z-script-to-video-generator\">“automating the content creation process”</a>. Developed as a specialized library within the ChatGPT by OpenAI, it uses the Dall-e model to interpret and visualize scripts. This innovative tool was crafted by <a href=\"https://www.charlyaisolutions.com/\">Charly AI Solutions</a>, marking a significant stride in the field of automated digital content production. In a manner akin to BibleGPT, the Script-to-Image library undergoes a rigorous fine-tuning process. This involves the integration of extensive additional datasets into the DALL·E model, particularly a diverse collection of images. Such an approach enhances the model's ability to produce highly customised and contextually relevant images across a wide spectrum of user inputs, thereby broadening its application and utility in digital content generation. The Script-to-Image custom library is meant to compliment Sora once it is released, however, during the time this project is conducted it is only able to release images. </p>\r\n",
    "\n",
    "<li>Animation</li>\n",
    "<li>Audio Narration</li>\n",
    "<li>Music</li>\n",
    "<li>Subtitles</li>\n",
    "<li>Commentary</li>\n",
    "</ul>\n",
    "<h3>Human-AI Collaboration</h3>"
   ]
  },
  {
   "cell_type": "markdown",
   "id": "fd0f1141-b5a5-44ad-9ea1-2e1c8c3c7115",
   "metadata": {},
   "source": [
    "<h2>Project Execution</h2>"
   ]
  },
  {
   "cell_type": "markdown",
   "id": "2bb438db-a805-4c13-a5f9-afc71c646219",
   "metadata": {},
   "source": [
    "<h3>Digitsation</h3>"
   ]
  },
  {
   "cell_type": "markdown",
   "id": "5eb5293d-9747-4f68-9239-e28b1750f1dc",
   "metadata": {},
   "source": [
    "<h3>Optical Character Recognition</h3>\n",
    "<h4>Input</h4>\n",
    "<img src=\"Media/RTBScan.png\" alt=\"Image of the Raised Type Bible\"\n",
    "<h4>Output</h4>\n",
    "<p>\n",
    ".st. matthew chapter 2.\n",
    "22 now all this was done, that it might be fulfilled whi\n",
    "was spoken of the lord by the Prophet saying, is, God with us. 24 then Joseph, being raised from slu hold, a virgin shall be with child, C shall bring forthis O they shall call his name Emmanuel, which being inter Pral did as the oneel of the lord had bidden him, & took un him his wife: 25 0 knew her not till she had brough forth her first born son: & he called his name Jesus.\n",
    "chapter 2.\n",
    "66\n",
    "now when Jesus was born in bethlehem of Judea in th days of herod the king, behold, there come wise man tren born king of the Jews? for we have seen his star in the the east to Jerusalem, 2 'saying, where is he that! Gare come to worship him. 3 when her og the kine d heard these things, he was troubled. & all Jerusalem wil him. & when he had gathered all the chief Priests & scribes of the People together, he demanded of them wh christ should be born. 5 & they said unto him, in ba lehem of Judea: for thus it is written by the Prophet, thou bethlehem, in the kind of Juda, art not the least amon the Princes of Judo: for out of thee shall come a GOVERN that shall rule my People israel. 7 then, hepod, wh he had Privily called the wise men, inquired of them dili Gently what time the star appeared. @ & he sent th to bethlehem, & said, co, & search dilic ently for the Youn child; & when. Ve have found him, bring me Word dad that i may come & worship him also. 9. when they h heard the Ring, they departed; & lo, the star, which the saw in the east, went before them, till it came of stood ove where the young child was. 10 when they sow the stor they rejoiced with exceeding Great Joy. I when the WEPE come into the house, they saw the young child will mary his mother, & fell down, & worshipped him: & wh they had opened their treasures, they Presented unto hi Gifts; Gold, & frankincense, of myrrh. 12 of being warn of Godina dream that they should not return to herod, th departed into their own country another way. when they were departed, behold, the ancel of the tord d 13 Peareth to Joseph in a dream, saying, arise, of take Young child & his mother, & flee into EGYPT, & be th there until i bring thee word: for herod will seek the you\n",
    "Herod w\n",
    "yound Hay\n",
    "hearo the lar did re\n",
    "in a d\n",
    "Of he\n",
    "bs fu\n",
    "in\n",
    "of H\n",
    "by f\n",
    "wil\n",
    "Hai\n",
    "WE\n",
    "W</p>"
   ]
  },
  {
   "cell_type": "markdown",
   "id": "b8c4a557-4d60-43fd-b092-1fd732422f8f",
   "metadata": {},
   "source": [
    "<h3>Narrating the Text</h3>\n",
    "<p>Prompt: Create a narrative script that retells the story of this \"Input the digitised text\" </p>\n",
    "<p>Prompt: Re-imagine this within a scope of disabled people, and tell that story with that lens? </p>\n",
    "<p>In a world where every person is valued not by their abilities but by their inherent worth as beings created in the image of God, there unfolds a story—a story that reimagines the birth and early life of Jesus, highlighting the significance of inclusion, empathy, and understanding, especially from the perspective of those with disabilities.\n",
    "\n",
    "<h4> Chapter 1: The Announcement of Emmanuel </h4>\n",
    "\n",
    "In a modest home in Nazareth, where daily life is a testament to resilience and faith, Mary and Joseph prepare for their future together. Joseph, perhaps facing his own challenges in a society where physical and mental differences are often misunderstood, is visited by an angel in a dream. This celestial messenger brings news that transcends human understanding: Mary will bear a child, not through ordinary means, but by the Holy Spirit. This child, Jesus, will be called Emmanuel, \"God with us,\" symbolizing God's presence in a world filled with both joy and suffering, capability and limitation.\n",
    "\n",
    "Joseph, upon waking, faces a decision. In a society where differences are often seen as burdens, accepting this child and his extraordinary origin requires a faith that sees beyond the physical, recognizing the divine purpose in every life. Moved by this vision, Joseph embraces his role, not just as a caregiver but as a father to a child who represents hope for all, including those often marginalized.\n",
    "\n",
    "<h4> Chapter 2: A Star in the East </h4>\n",
    "\n",
    "Meanwhile, wise men from distant lands, scholars who have faced their own societal barriers due to their unconventional beliefs and practices, observe a new star. This celestial phenomenon leads them on a journey, not just across deserts and mountains, but toward a deeper understanding of worth and dignity.\n",
    "\n",
    "Arriving in Jerusalem, they seek the newborn king, their quest highlighting the contrast between societal expectations and God’s kingdom, where the last shall be first, and the first, last. Their journey to Bethlehem, guided by the star, becomes a metaphor for the journey of every person who has faced exclusion and longing for acceptance.\n",
    "\n",
    "In a simple dwelling in Bethlehem, they find Jesus with Mary. Their gifts of gold, frankincense, and myrrh are symbolic, not just of kingship and divinity, but of a life that will include suffering and sacrifice—experiences familiar to those living with disabilities. Their worship is a profound recognition of Jesus' mission to embrace the overlooked and to dignify those society deems undignified.\n",
    "\n",
    "<h4>The Flight to Egypt </h4>\n",
    "\n",
    "As the story continues, Joseph is warned in a dream of Herod’s plans. The holy family’s flight to Egypt reflects the experiences of many who, because of their disabilities, find themselves fleeing from misunderstanding, prejudice, and violence. In Egypt, a land foreign and unfamiliar, Jesus grows up with stories of flight and refuge, instilling in him a deep empathy for the marginalized and oppressed.\n",
    "\n",
    "This retelling of Jesus' early days through the lens of disability does not diminish the divine but highlights it. It speaks to a God who chooses the unexpected path, who values the heart over outward ability, and who is present in vulnerability and strength alike. It is a story that reminds us that in God’s kingdom, every person—regardless of physical or mental capability—is precious, valued, and called to a purpose that transcends earthly limitations.\n",
    "\n",
    "In this reimagined narrative, the focus on disabilities illuminates the Christian belief in a God who embraces all aspects of human experience, offering hope, presence, and a promise of redemption for every person, especially those whom society might overlook or underestimate.</p>"
   ]
  },
  {
   "cell_type": "markdown",
   "id": "6a2b22ab-78d1-44c4-97ad-b459059f0a18",
   "metadata": {},
   "source": [
    "<h3>Generating the Audio</h3>"
   ]
  },
  {
   "cell_type": "markdown",
   "id": "10b09dfa-856c-4e6a-b0c4-695d67b89cd3",
   "metadata": {},
   "source": [
    "<h3>Generating the Images</h3>\n",
    "<p>Prompt: This is the Script [from the previous step] . Generate images of this that demonstrate the scene. \n",
    "    <ul><li>Theme: Biblical</li> <li>Number of Images: 5.</li> <li>Image Ratio:16:9</li></ul></p>\n",
    "<p>[Interrupted]</p>\n",
    "<p>Prompt: Generate the images with the same conditions, incorporating themes of disability.</p>\n",
    "<p>Prompt: Generate alternative text for the images provided</p>\n",
    "<h4>Output</h4>\n",
    "<img src=\"Media/Storyboard1.webp\" alt\"A serene room lit by soft, celestial light. Joseph, wearing period-appropriate attire, stands awe-struck as an angel, radiating warmth and divine presence, communicates a divine message. The setting is a modest home in Nazareth, furnished simply to reflect the humble lifestyle of the time. \">\n",
    "<img src=\"Media/Storyboard2.webp\" alt\"Under a starry night sky in the desert, three wise men from different lands gaze towards a bright new star, signaling their quest for understanding and acceptance. They stand near their camels, ready to embark on a long journey. The scene is rendered in a biblical style, highlighting the rugged beauty of the landscape and the significance of their journey, with detailed attire and the radiant light from the star enhancing the narrative focus on inclusion.\">\n",
    "<img src=\"Media/Storyboard3.webp\" alt\"Inside a humble dwelling in Bethlehem, the wise men present their symbolic gifts of gold, frankincense, and myrrh to newborn Jesus, who is cradled in Mary's arms, with Joseph standing protectively beside them. The room is modestly illuminated by a lantern, casting a serene glow over the group. Their expressions of gratitude, wonder, reverence, and joy capture the divine recognition and the breaking down of societal barriers.\">\n",
    "<img src=\"Media/Storyboard4.webp\" alt\"The holy family's night journey to Egypt is portrayed with an emphasis on resilience and inclusivity. Joseph, leading with a lantern and using a carved wooden cane, symbolizes determination. Mary follows, holding infant Jesus. They're accompanied by a donkey carrying belongings, under a starry sky, highlighting their silent, determined pursuit of safety and reflecting the experiences of those with disabilities navigating challenges for acceptance.\">\n",
    "<img src=\"Media/Storyboard5.webp\" alt\"Depicting a vibrant community garden in Egypt, young Jesus is shown interacting with a diverse group of children, some with visible disabilities, in a warm, inclusive setting. They are engaged in activities that demonstrate acceptance, with Jesus helping another child with a mobility aid. This scene symbolizes growth, empathy, and the nurturing of an inclusive society where every individual is valued.\">"
   ]
  },
  {
   "cell_type": "markdown",
   "id": "87dc1b9e-0f9f-4fbb-a194-ab3ace06aa16",
   "metadata": {},
   "source": [
    "<video width=\"320\" height=\"240\" controls>\n",
    "  <source src=\"Media/Videos/video1.mp4\" type=\"video/mp4\">\n",
    "      Your browser does not support the video tag.\r\n",
    "\n",
    "</video>\n",
    "<video width=\"320\" height=\"240\" controls>\n",
    "  <source src=\"Media/Videos/video2.mp4\" type=\"video/mp4\"\n",
    "      Your browser does not support the video tag.\r\n",
    ">\n",
    "</video>\n",
    "<video width=\"320\" height=\"240\" controls>\n",
    "  <source src=\"Media/Videos/video3.mp4\" type=\"video/mp4\n",
    "      Your browser does not support the video tag.\r\n",
    "\">\n",
    "</video>\n",
    "<video width=\"320\" height=\"240\" controls>\n",
    "  <source src=\"Media/Videos/video4.mp4\" type=\"video/mp\n",
    "      Your browser does not support the video tag.\r\n",
    "4\">\n",
    "</video>\n",
    "<video width=\"320\" height=\"240\" controls>\n",
    "  <source src=\"Media/Videos/video5.mp4\" type=\"video/m\n",
    "      Your browser does not support the video tag.\r\n",
    "p4\">\n",
    "</video>"
   ]
  },
  {
   "cell_type": "markdown",
   "id": "2aaeb82e-7032-49a8-9367-4d508164a207",
   "metadata": {},
   "source": [
    "<h3>Generate the Commentary</h3>\n",
    "<h4>Input</h4>\n",
    "<p>Prompt: Given this script [], and these images [], in relation to a Raised Type New Testament, generate commentary for a cultural heritage setting</p>\n",
    "<p>[Interrputed]</p>\n",
    "<p>Keep it concise, to elaborate on the piece, in a place like a musuem </p>\n",
    "<p>Speak to museum visitors </p>\n",
    "<h4>Output</h4>\n",
    "<p>\n",
    "As you wander through the galleries, I invite you to pause and reflect on the powerful images before you, drawn from the Raised Type New Testament. Each scene is a tapestry of light, color, and narrative, breathing new life into timeless stories.\n",
    "\n",
    "Picture Joseph in his humble abode, where an angel’s message heralds a future where every person is cherished. It’s a scene that speaks to the heart, asking us to consider the depth of acceptance and faith.\n",
    "\n",
    "Now, turn your gaze to the wise men under the stars. Their journey, laden with gifts and hope, symbolizes the search for connection that transcends all barriers.\n",
    "\n",
    "Look further to the Holy Family's flight, a poignant reminder of the resilience in the face of adversity. It’s an echo of the journeys many still undertake, seeking a place where differences are not just recognized but embraced.\n",
    "\n",
    "Here, the Raised Type New Testament isn't just a text; it's a conversation between eras, between the seen and unseen, inviting us all to find the sacred in the spectrum of the human experience. Let these images be a reminder that everyone has a story, and every story holds a place in the halls of history and the corridors of our collective consciousness.</p>\n",
    "<h4>Editing</h4>\n",
    "<p>The Raised Type New Testament is a conversation between eras, between the seen and unseen, inviting us all to appreciate the sacred in the spectrum of the human experience. The video shows that everyone has a story, and every story holds a place in the halls of history and the corridors of our collective consciousness. </p>\n",
    "<h4>Braille Conversion</h4>"
   ]
  },
  {
   "cell_type": "markdown",
   "id": "20526aeb-3436-4870-add0-4c50fbe469f2",
   "metadata": {},
   "source": [
    "<h3> Combining the final output</h3>"
   ]
  },
  {
   "cell_type": "markdown",
   "id": "a2b6a95f-4c50-486d-88ad-412088ccbdb4",
   "metadata": {
    "jp-MarkdownHeadingCollapsed": true
   },
   "source": [
    "<h2>Results & Analysis</h2>\n",
    "<p>The results of this project show how AI can be used to transalte ideas without the hard work. in application, this has helped with doing the hard labour. </p>"
   ]
  },
  {
   "cell_type": "markdown",
   "id": "8d32bc45-b2c1-4b64-9784-3f4777c5987d",
   "metadata": {},
   "source": [
    "<h2>Discussion & Conclusion</h2>\n"
   ]
  }
 ],
 "metadata": {
  "kernelspec": {
   "display_name": "Python 3 (ipykernel)",
   "language": "python",
   "name": "python3"
  },
  "language_info": {
   "codemirror_mode": {
    "name": "ipython",
    "version": 3
   },
   "file_extension": ".py",
   "mimetype": "text/x-python",
   "name": "python",
   "nbconvert_exporter": "python",
   "pygments_lexer": "ipython3",
   "version": "3.9.18"
  }
 },
 "nbformat": 4,
 "nbformat_minor": 5
}
