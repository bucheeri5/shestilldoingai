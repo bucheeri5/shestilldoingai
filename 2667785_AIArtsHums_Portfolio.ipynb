{
 "cells": [
  {
   "cell_type": "markdown",
   "id": "6f6bd06e-d5fa-4d00-afad-df093f124b57",
   "metadata": {},
   "source": [
    "<h1>Renewed Scripture, Renewed Hope: Disability Through the Lens of the New Testament</h1>"
   ]
  },
  {
   "cell_type": "markdown",
   "id": "545f3330-2d27-4a28-b4f1-5a3e20f0100f",
   "metadata": {},
   "source": [
    "<h2>Introduction</h2>\n",
    "<p>The Bible has influenced language, imagery, and society, becoming what Hull describes as the <a href=\"https://www.jstor.org/stable/4122404\">'norm' </a>for countless generations in western society. Its narratives also hold the potential to empower individuals; this is particularly relevant for disabled people whom biblical stories have the potential to offer a source of liberation given the roles and contributions of disabled figures. Despite the few references to characters with disabilities in the New Testament, figures like Paul—<a href=\"https://boletindeliteratuoral.com/index.php/bdlo/article/view/67\">who, may have lived with a visual impairment following his conversion</a>—embody the impact that disabled individuals had on both society and history. Yet, accessing these narratives presents barriers. Historically, the majority of people in western nations were illiterate and biblical knowledge was <a href=\"https://reflections.yale.edu/article/between-babel-and-beatitude/holy-bible-30-scripture-digital-age\">passed through church paintings, stained glass, and oral tradition</a>; perhaps this is more accessible than modern Christianity following the scripture. As we navigate the modern world, challenges persist in terms of accessibility and barriers affecting disabled people’s ability in accessing the Bible's pages independently. </p>"
   ]
  },
  {
   "cell_type": "markdown",
   "id": "0009d535-bdb4-4be0-957d-c6657ff29c02",
   "metadata": {},
   "source": [
    "<h2>Context</h2>\n",
    "<p>AI art and printing share a closer relationship than we might initially think. The advent of printmaking and the printing press was a pivotal milestone in the history of art and technology, revolutionizing how we produce, consume, and interpret art. Similarly, AI has initiated another evolutionary leap that impacted these processes and prompts us to further our understanding of creativity. The intent behind this project is to focus on the intersection of accessibility, generative AI, and religion. The main question here is how religious objects can best be approached to encourage a dialogue among a wider audience, using generative AI. Paine criticizes the idea that encountering religious objects is limited to a mental and disembodied experience and suggests that religious objects have more to offer than appreciation for their aesthetic: \"It’s not until one has seen religious objects in use – either in an actual way or in some virtual way – that they truly come alive, that one can get a glimpse, if you like, into the souls of these objects\". </p>\n",
    "\n",
    "<p> Building upon this, this project explores generative AI to further explore the Raised Type New Testament, originally in Greek and formally translated and printed by the New York American Bible Society. This project requires access to the University of Glasgow's Special Collections for digitisation. This is available for public access but prior booking is necessary at the <a href=\"https://www.gla.ac.uk/myglasgow/archivespecialcollections/\">University of Glasgow Archives & Special Collections</a>. Many thanks goes to Robert McClean for guiding this project and showcasing the objects virtually and in person.</p>\n",
    "\n",
    "<p>The essence of religious artifacts, including the Raised Type New Testament, can be connected with their historical context. This connection is not only about the physicality of these objects but also their role in the practice of faith, as highlighted by Paine's perspective. Paine argues that religion transcends a system of ideas, emphasizing it as a practice rooted in tangible objects. In this light, the Raised Type Bible embodies more than just a text; it represents the history of a practice of engaging with the sacred, making it a critical tool for inclusivity and accessibility in religion.</p>\n",
    "\n"
   ]
  },
  {
   "cell_type": "markdown",
   "id": "c406c39f-84e9-4781-bee3-b1a5a727bd6d",
   "metadata": {},
   "source": [
    "<h2>Objectives</h2>\n",
    "<p>The overall objective of this project is to engage with the Raised Type New Testament beyond its religious context by presenting it as a cultural artifact. It aims to explore to situate the object within its cultural and historical context. By doing so, it aims appeals to a broader audience that is interested not only in theology but also hidden histories of disablity and accessible practices. The Raised Type New Testament ought to be recognised not just as a religious scripture but as a cultural object that reflects early accounts of accessible practices. \n",
    "The intended outcomes are:<p>\n",
    "<ul>\n",
    "<li>Develop an accompanying multimedia project to the Raised Type New Testament based on biblical stories focusing on a re-imagined script with the disabled people.</li>\n",
    "<li>Employ AI technologies to transform the Raised Type New Testament into various accessible formats, including audio narration, and visual imagery, ensuring that the text is approachable for users with diverse accessibility needs.</li>\n",
    "<li>Communicate the religious and cultural content of the Raised Type New Testament, ensuring that the resulting narratives remain true to the original text.  </li>\n",
    "</ul>\n",
    "</p>"
   ]
  },
  {
   "cell_type": "markdown",
   "id": "39578b32-d333-4201-bb50-11c382bbb1cc",
   "metadata": {},
   "source": [
    "<h2>Knowledge & Themes</h2>\n",
    "<ul>\n",
    "  <li>Contemporary Religion: The project delves into the Bible's relevance in a post-Christian and post-secular context, presenting the Raised Type Bible as both a religious text and a critical artifact of accessibility history.</li>\n",
    "  <li>Cultural Preservation: Acknowledging the physical delicacy of the Raised Type New Testament, this project explores how generative AI can help engage a broader audience with this unique format, sparking dialogue about an often-overlooked theme—disability.</li>\n",
    "  <li>Historical and Cultural Significance: The exhibition of the Raised Type New Testament aims to underscore its influence on European culture—and by extension, global history as a result of colonialism—inviting a diverse audience to engage with its lesser-known stories and historical impact.</li></ul>"
   ]
  },
  {
   "cell_type": "markdown",
   "id": "81f6d2eb-9377-4850-94a3-a91045b8ddcc",
   "metadata": {},
   "source": [
    "<h3>Human-AI Collaboration</h3> \n",
    "\n",
    "<p>This project embraces AI as a collaborator, acknowledging that while AI does not possess creative intention in the human sense, its outputs can reshape the human artist's intent in a meaningful way. AI can potentially shift creative expression—challenging us to reconsider the relationship between the medium and the creative ideas. This includes how we value art and whether it is the labour behind or other aspects, think of oil paintings! With using existing generative AI models, there is no intensive manual effort that is traditionally associated with artmaking. This might be present in projects that program their AI model and digitise their training data, from the start to the finish, but perhaps is not in the usual use of models like Dall-e. This prompts us to question how we value art when the labour behind it becomes less visible and more intellectual. You might also want to consider how immersion in the creative process changes, as AI allows for rapid experimentation of concepts that might otherwise would require hours of labour to envision. In this, we find a new form of value: the capacity to explore more ideas and engage in deeper reflection. </p> \n",
    "\n",
    "<p>In this project, the initiation of ideas was human, and the production of art and output was AI. I decided on the prompts and ideas, then had the AI generate them. I digitised the Raised Type New Testament and had that converted into machine-readable text. Then, based on the page I randomly selected to show how this process can be conducted I decided to let AI narrate it, convert the narration into audio, generate images based on the narration, decide on the description of the music to match the narration, and based on that, I combined the different multimedia elements and used subtitles. Following these, I made ai write a description of the object and the video that it generated to see how it could be placed in GLAMs. I then proofread it. You might think of this collaboration as the generative ai models i used were a talented mutlimedia artist in all domains, and I am the project manager giving feedback on what works and what doesn’t for our clients. </p> \n",
    "\n",
    "<p>You might think, all of these can be done manually—so what is the point? Well, in this project, I considered that with little funding for both humanities and disability studies, this project had low funding environments in GLAMs. With <a href=\"https://openglam.pubpub.org/pub/barriers-to-open-access/release/1\">reduced funding</a>, GLAMs (galleries, libraries, archives, and museums) are reluctant to give up any income, no matter how minimal. </p> ></p> \r\n",
    "\r\n",
    "\r\n",
    "</p>"
   ]
  },
  {
   "cell_type": "markdown",
   "id": "b53c9d53-13f4-4ffe-8d31-17db540477c2",
   "metadata": {},
   "source": [
    "<h2>Methodology</h2>\n",
    "<p>Employ multimedia displays and interactive technologies to enhance the historical and cultural contexts of religious exhibits. These tools will allow visitors to see religious artifacts in use, providing a window into their 'souls' and the roles they play within their respective faith traditions. Our methodology promotes a comprehensive approach to displaying religious objects in museums that considers their practical, historical, and cultural significance. By doing so, we aim to foster a deeper, more empathetic dialogue among visitors of diverse backgrounds, moving beyond mere aesthetic appreciation to a richer understanding of these objects' place in cultural heritage</p>\n",
    "<h3>Research Question</h3>\n",
    "<ul><li>\"How can Human-AI collaboration effectively transform the raised type New Testament Bible into an inclusive cultural object, facilitating deeper engagement and dialogue among a wider audience?\"</li></ul>\n",
    "<h3>Workflow</h3>\n",
    "<img src=\"Media/workflow.png\" alt=\"Image of the workflow in this project\">\n"
   ]
  },
  {
   "cell_type": "markdown",
   "id": "27450387-b971-4120-95ec-a61901c86a5f",
   "metadata": {},
   "source": [
    "<h3>Technologies Used</h3>\n",
    "<ul>\n",
    "<li>Digitisation & Optical Character Recognition</li>\n",
    "<p>The process began with digitizing the text through high-resolution scanning using an iPhone 14 camera, which provided the necessary image quality. Following this, preprocessing steps were undertaken to optimize the image; notably, the file size was reduced using Microsoft Paint to facilitate easier handling. To convert the captured image into machine-readable text, the <a href=\"https://www.imagetotext.info/\">imagetotext</a> platform was utilized, which offers its services free of charge and without requiring login information. At the core of this conversion process lies Optical Character Recognition (OCR) technology. OCR employs pattern recognition and machine learning algorithms, such as neural networks, to meticulously identify and classify each character captured within the document. This intricate process includes comparing the elements of the scanned image against a database of known characters and interpreting the text's structure. The ultimate goal is to transform the information into a digital format that accurately mirrors the original document, thus enabling functionalities like text search and editing, all while retaining the integrity of the original text.</p>\n",
    "<li>Narration & Commentary</li>\n",
    "<p>For narration purposes, <a href=\"https://chat.openai.com/g/g-17Xx6gBcE-biblegpt?utm_source=gptshunter.com\">\"BibleGPT\"</a> was employed, which is a custom library available at ChatGPT. This variant is developed through a process called fine-tuning, which involves training the original model with additional datasets, integrating bespoke instructions, and a range of capabilities tailored to specific use. The development of BibleGPT involved enhancing the base model's capabilities by introducing targeted data sets, thereby expanding its comprehension and response capabilities in context-specific domains, aka the bible. Access to the standard ChatGPT platform is available at no cost and requires users to register for an account. However, BibleGPT necessitates access to the GPT-4, which needs subscription behind a paywall. BibleGPT was developed by Daniel Abraham.</p>\n",
    "<li>Image Generation</li>\n",
    "<p>The script-to-image generator is an advanced tool designed to convert textual scripts into visual images, effectively <a href=\"https://chat.openai.com/g/g-u6ooEbi8z-script-to-video-generator\">“automating the content creation process”</a>. Developed as a specialized library within the ChatGPT by OpenAI, it uses the Dall-e model to interpret and visualize scripts. This innovative tool was crafted by <a href=\"https://www.charlyaisolutions.com/\">Charly AI Solutions</a>, marking a significant stride in the field of automated digital content production. In a manner akin to BibleGPT, the Script-to-Image library undergoes a rigorous fine-tuning process. This involves the integration of extensive additional datasets into the DALL·E model, particularly a diverse collection of images. Such an approach enhances the model's ability to produce highly customised and contextually relevant images across a wide spectrum of user inputs, thereby broadening its application and utility in digital content generation. The Script-to-Image custom library is meant to compliment Sora once it is released, however, during the time this project is conducted it is only able to release images. </p>\n",
    "\n",
    "<li>Animation</li>\n",
    "<p><a href=\"https://pika.art/\">Pika</a> is a free AI video generator. It transforms images accompanied with prompts into  videos. It uses Natural Language Processing (NLP) for interpreting text prompts, alongside computer vision for image analysis, to allow an understanding a deep understanding of user inputs. Pika uses Generative Adversarial Networks (GANs) to generate new content by learning from training data. You will need to log in to use Pika, but access to most features is free. </p>\n",
    "\n",
    "<li>Audio Narration</li>\n",
    "<p><a href=\"https://www.narakeet.com/\">Narakeet</a> is an online platform that utilizes text-to-speech (TTS) technology to transform written text into spoken voice, making it a powerful tool for creating and editing video content. The TTS engine within Narakeet converts text to audio. This technology, originally developed to aid in reading back documents on computers, has evolved to produce voices that sound natural and can accurately recognize words, phrases, and sentences. Narakeet offers flexibility in content presentation and sharing, enhancing projects with high-quality audio narration tailored with multiple voices. Most features are free to use, and it does not require any log in.</p>\n",
    "<li>Music</li>\n",
    "<p><a href=\"https://soundrawhelp.zendesk.com/hc/en-us\">SOUNDRAW</a> utilizes a unique AI generation process for its music creation. Users begin by setting parameters such as mood, genre, and instruments through the \"Create Music\" tab, which guides the AI in generating a personalized song list. This list comprises original samples and sounds curated by our in-house team of music producers. Once a song is selected from the list, users can fine-tune it using the editor. If unsatisfied with the initial list, users have the option to regenerate it by adjusting the tags or utilize the advanced Pro Mode for further customization. In this project, SOUNDRAW was used as an external application with Canva. It is free for use, but requires log in. </p>\n",
    "<li>Video Editing & Final Touches</li>\n",
    "<p>For combining the elements <a href=\"https://www.canva.com/\">Canva</a> was used. Users can access Canva for free by visiting their website and logging into their account. With Canva, you can combine various elements such as images, text, graphics, and animations to craft visually appealing and engaging multimedia content. Canva also has built in generative AI applications, including the aforementioned SOUNDRAW, that users can use to streamline the editing process.</p>\n",
    "<li>Braille Conversion</li>\n",
    "<p>For converting the text into braille, <a href=\"https://abcbraille.com/braille\">abcbraille</a> was used. Braille transcription software functions by translating text characters, words, punctuation, and document formatting into equivalent braille characters. The resulting braille file can then be output to either a refreshable braille display or a braille embosser, which prints a tactile copy on paper for reading by touch. For this project, in order to be inclusive, UEB Braille Grade 1 was used as Contracted (Grade 2) braille is used by experienced braille users, making sure all braille users can understand in case this project was to be printed.\r\n",
    "\r\n",
    "\r\n",
    " </p>\n",
    "</ul>\n",
    "\n",
    "\r\n",
    "</p>"
   ]
  },
  {
   "cell_type": "markdown",
   "id": "fd0f1141-b5a5-44ad-9ea1-2e1c8c3c7115",
   "metadata": {},
   "source": [
    "<h2>Project Execution</h2>"
   ]
  },
  {
   "cell_type": "markdown",
   "id": "2bb438db-a805-4c13-a5f9-afc71c646219",
   "metadata": {},
   "source": [
    "<h3>Digitsation</h3>"
   ]
  },
  {
   "cell_type": "markdown",
   "id": "5eb5293d-9747-4f68-9239-e28b1750f1dc",
   "metadata": {},
   "source": [
    "<h3>Optical Character Recognition</h3>\n",
    "<h4>Input</h4>\n",
    "<img src=\"Media/RTBScan.png\" alt=\"Image of the Raised Type Bible\"\n",
    "<h4>Output</h4>\n",
    "<p>\n",
    ".st. matthew chapter 2.\n",
    "22 now all this was done, that it might be fulfilled whi\n",
    "was spoken of the lord by the Prophet saying, is, God with us. 24 then Joseph, being raised from slu hold, a virgin shall be with child, C shall bring forthis O they shall call his name Emmanuel, which being inter Pral did as the oneel of the lord had bidden him, & took un him his wife: 25 0 knew her not till she had brough forth her first born son: & he called his name Jesus.\n",
    "chapter 2.\n",
    "66\n",
    "now when Jesus was born in bethlehem of Judea in th days of herod the king, behold, there come wise man tren born king of the Jews? for we have seen his star in the the east to Jerusalem, 2 'saying, where is he that! Gare come to worship him. 3 when her og the kine d heard these things, he was troubled. & all Jerusalem wil him. & when he had gathered all the chief Priests & scribes of the People together, he demanded of them wh christ should be born. 5 & they said unto him, in ba lehem of Judea: for thus it is written by the Prophet, thou bethlehem, in the kind of Juda, art not the least amon the Princes of Judo: for out of thee shall come a GOVERN that shall rule my People israel. 7 then, hepod, wh he had Privily called the wise men, inquired of them dili Gently what time the star appeared. @ & he sent th to bethlehem, & said, co, & search dilic ently for the Youn child; & when. Ve have found him, bring me Word dad that i may come & worship him also. 9. when they h heard the Ring, they departed; & lo, the star, which the saw in the east, went before them, till it came of stood ove where the young child was. 10 when they sow the stor they rejoiced with exceeding Great Joy. I when the WEPE come into the house, they saw the young child will mary his mother, & fell down, & worshipped him: & wh they had opened their treasures, they Presented unto hi Gifts; Gold, & frankincense, of myrrh. 12 of being warn of Godina dream that they should not return to herod, th departed into their own country another way. when they were departed, behold, the ancel of the tord d 13 Peareth to Joseph in a dream, saying, arise, of take Young child & his mother, & flee into EGYPT, & be th there until i bring thee word: for herod will seek the you\n",
    "Herod w\n",
    "yound Hay\n",
    "hearo the lar did re\n",
    "in a d\n",
    "Of he\n",
    "bs fu\n",
    "in\n",
    "of H\n",
    "by f\n",
    "wil\n",
    "Hai\n",
    "WE\n",
    "W</p>"
   ]
  },
  {
   "cell_type": "markdown",
   "id": "ef2bced6-a151-44fc-8d0f-99fcbe5c8567",
   "metadata": {},
   "source": [
    "<p>Reflection Point: Is this what is supposed to takeover our jobs? Haha :) The output from the Optical Character Recognition (OCR) process applied to the \"Raised Type Bible\" illustrates both the strengths and the challenges of using OCR on historical documents. It did manage to transform the printed text into a digital format, maintaining the core content and structure. However, it also introduces several errors, such as misspellings, unusual character substitutions, and formatting inconsistencies, including concatenated words and misplaced punctuation. These issues highlight the necessity for post-processing to refine the text and enhance its readability. However, it is still impressive given that it is the Raised Type and that I did not adjust any contrast! OCR offers significant benefits by converting non-searchable images into searchable text, greatly improving accessibility for researchers, students, and the general public. This just comes to show how we are better in collaboration cause now I just need to fix up the text!\r\n",
    "\r\n",
    "\r\n",
    " </p>"
   ]
  },
  {
   "cell_type": "markdown",
   "id": "b8c4a557-4d60-43fd-b092-1fd732422f8f",
   "metadata": {
    "jp-MarkdownHeadingCollapsed": true
   },
   "source": [
    "<h3>Narrating the Text</h3>\n",
    "<p>Prompt: Create a narrative script that retells the story of this \"Input the digitised text\" </p>\n",
    "<p>Prompt: Re-imagine this within a scope of disabled people, and tell that story with that lens? </p>\n",
    "<p>In a world where every person is valued not by their abilities but by their inherent worth as beings created in the image of God, there unfolds a story—a story that reimagines the birth and early life of Jesus, highlighting the significance of inclusion, empathy, and understanding, especially from the perspective of those with disabilities.\n",
    "\n",
    "<h4> Chapter 1: The Announcement of Emmanuel </h4>\n",
    "\n",
    "In a modest home in Nazareth, where daily life is a testament to resilience and faith, Mary and Joseph prepare for their future together. Joseph, perhaps facing his own challenges in a society where physical and mental differences are often misunderstood, is visited by an angel in a dream. This celestial messenger brings news that transcends human understanding: Mary will bear a child, not through ordinary means, but by the Holy Spirit. This child, Jesus, will be called Emmanuel, \"God with us,\" symbolizing God's presence in a world filled with both joy and suffering, capability and limitation.\n",
    "\n",
    "Joseph, upon waking, faces a decision. In a society where differences are often seen as burdens, accepting this child and his extraordinary origin requires a faith that sees beyond the physical, recognizing the divine purpose in every life. Moved by this vision, Joseph embraces his role, not just as a caregiver but as a father to a child who represents hope for all, including those often marginalized.\n",
    "\n",
    "<h4> Chapter 2: A Star in the East </h4>\n",
    "\n",
    "Meanwhile, wise men from distant lands, scholars who have faced their own societal barriers due to their unconventional beliefs and practices, observe a new star. This celestial phenomenon leads them on a journey, not just across deserts and mountains, but toward a deeper understanding of worth and dignity.\n",
    "\n",
    "Arriving in Jerusalem, they seek the newborn king, their quest highlighting the contrast between societal expectations and God’s kingdom, where the last shall be first, and the first, last. Their journey to Bethlehem, guided by the star, becomes a metaphor for the journey of every person who has faced exclusion and longing for acceptance.\n",
    "\n",
    "In a simple dwelling in Bethlehem, they find Jesus with Mary. Their gifts of gold, frankincense, and myrrh are symbolic, not just of kingship and divinity, but of a life that will include suffering and sacrifice—experiences familiar to those living with disabilities. Their worship is a profound recognition of Jesus' mission to embrace the overlooked and to dignify those society deems undignified.\n",
    "\n",
    "<h4>The Flight to Egypt </h4>\n",
    "\n",
    "As the story continues, Joseph is warned in a dream of Herod’s plans. The holy family’s flight to Egypt reflects the experiences of many who, because of their disabilities, find themselves fleeing from misunderstanding, prejudice, and violence. In Egypt, a land foreign and unfamiliar, Jesus grows up with stories of flight and refuge, instilling in him a deep empathy for the marginalized and oppressed.\n",
    "\n",
    "This retelling of Jesus' early days through the lens of disability does not diminish the divine but highlights it. It speaks to a God who chooses the unexpected path, who values the heart over outward ability, and who is present in vulnerability and strength alike. It is a story that reminds us that in God’s kingdom, every person—regardless of physical or mental capability—is precious, valued, and called to a purpose that transcends earthly limitations.\n",
    "\n",
    "In this reimagined narrative, the focus on disabilities illuminates the Christian belief in a God who embraces all aspects of human experience, offering hope, presence, and a promise of redemption for every person, especially those whom society might overlook or underestimate.</p>"
   ]
  },
  {
   "cell_type": "markdown",
   "id": "d0f6acaf-36cc-4c80-85bf-fd81997a37bd",
   "metadata": {},
   "source": [
    "<p>Reflection Point: The model's ability to adapt traditional narratives to modern themes of inclusivity, particularly from the perspective of individuals with disabilities is not too bad! In fact, this is where it can connect patterns and where humans can occasionally miss. Now in terms of reflecting on the outcome, it might be considered oversimplifying complex biblical and theological themes to fit contemporary social issues. In fact, when I told GPT-4 to reflect on this, it said it can “lead to interpretations that might feel forced or overly tailored to modern agendas, potentially alienating those who value a more traditional interpretation of biblical texts. Moreover, while the model successfully highlights societal barriers and promotes an inclusive perspective, it could enhance its approach by integrating more diverse viewpoints and deeper theological analysis to avoid the risk of projecting modern values onto historical contexts inappropriately. This would enrich the narrative with a more balanced view that respects historical authenticity while still engaging with modern concerns”. However, knowing that the traditional bible is perceived as alienating by a vast number of people, the model has not considered that the bible has been examined over the years through multiple lenses. It does consider the need for contextualising the facts, which is a very valid point. In terms of narrative technique, the retelling could benefit from a seamless integration of themes. At times, the emphasis on disability and societal barriers felt like a final afterthought. Balancing these elements more effectively would make the retelling robust, providing a richer understanding of the narratives that respects both their origins and their contemporary applications. </p>"
   ]
  },
  {
   "cell_type": "markdown",
   "id": "8e7f2b97-6932-4ee4-b8ac-8564f113546f",
   "metadata": {},
   "source": [
    "<h3>Generating the Audio</h3>\n",
    "<h4>Narrating using BibleGPT</h4>\n",
    "<h5>Input</h5>\n",
    "<ul>\n",
    "<li><p>Prompt: Shorten this [insert script]</p></li>\n",
    "<li><p>Prompt: Assign it into a 5 storyboard story</p></li>\n",
    "<li><p>Prompt: Include themes of disability in the caption</p></li>\n",
    "</ul>\n",
    "\n",
    "<h5>Final Output</h5>\n",
    "\n",
    "<h6>Storyboard 1: The Divine Announcement</h6>\n",
    "<ul>\n",
    "<li>Frame 1: A starry night over Nazareth; Joseph, shown with a look of concern, sleeps.</li>\n",
    "<li>Frame 2: An angel appears in Joseph's dream, illuminating the room with a comforting light, signifying hope and divine intervention.</li>\n",
    "<li>Frame 3: The message is delivered, focusing on Mary, surrounded by a gentle glow, highlighting the miraculous nature of her pregnancy.</li>\n",
    "<li>Frame 4: Joseph wakes, touched by the dream’s message, his face showing resolve and acceptance.</li>\n",
    "<li>Caption: \"An angel reveals to Joseph that Mary will bear Jesus, symbolizing 'God saves' and Emmanuel, 'God with us,'—a promise that extends God's inclusive love to all, including those with disabilities.\"</li>\n",
    "</ul>\n",
    "<h6>Storyboard 2: The Journey of the Magi</h6>\n",
    "<ul>\n",
    "<li>Frame 1: The wise men, depicted with their diverse backgrounds, gather, showing their shared quest ignited by a bright star.</li>\n",
    "<li>Frame 2: Their journey across varied terrains, illustrating the universal search for truth, regardless of physical or societal barriers.</li>\n",
    "<li>Frame 3: In Jerusalem, their hopeful inquiry amidst the city's indifference emphasizes the outsiders’ pursuit of acceptance.</li>\n",
    "<li>Frame 4: Herod's deceitful encounter with the wise men, cloaked in shadows, symbolizes the challenges faced by those seeking truth.</li>\n",
    "<li>Caption: \"Guided by a star, the wise men's journey mirrors the perseverance of individuals with disabilities in their quest for recognition and belonging.\"</li>\n",
    "</ul>\n",
    "\n",
    "<h6>Storyboard 3: The Revelation in Bethlehem</h6>\n",
    "<ul>\n",
    "<li>Frame 1: The star shines directly over a simple home, guiding the way and symbolizing hope.</li>\n",
    "<li>Frame 2: Inside, the wise men meet Mary and Jesus, a moment of divine encounter, radiating warmth and acceptance.</li>\n",
    "<li>Frame 3: Their gifts, symbolizing respect and acknowledgment, are presented, each reflecting aspects of Jesus’ life and mission.</li>\n",
    "<li>Frame 4: A tender scene of Mary with Jesus, highlighting the unconditional love that embraces all, including those society may overlook.</li>\n",
    "<li>Caption: \"In Bethlehem, the wise men's gifts to Jesus celebrate his kingship and forthcoming sacrifices, symbolizing the embracing of all, particularly the marginalized and those with disabilities.\"</li>\n",
    "</ul>\n",
    "\n",
    "<h6>Storyboard 4: The Flight to Egypt</h6>\n",
    "<ul>\n",
    "<li>Frame 1: Another dream warns Joseph, the shadow looming over them represents the ever-present challenges faced by those with vulnerabilities.</li>\n",
    "<li>Frame 2: The family's discreet departure under the veil of night, showcasing their resilience and protective love.</li>\n",
    "<li>Frame 3: Their journey emphasizes the theme of divine guidance amidst uncertainty, akin to the journey of life with a disability.</li>\n",
    "<li>Frame 4: Finding refuge in Egypt, a light of hope shines through, symbolizing safety and the continuous presence of God in times of trial.</li>\n",
    "<li>Caption:\"Fleeing to Egypt, the holy family’s journey mirrors the experiences of those with disabilities—facing societal threats with courage, guided by faith and divine protection.\"</li>\n",
    "</ul>\n",
    "\n",
    "<h6>Storyboard 5: The Promise of Emmanuel</h6>\n",
    "<ul>\n",
    "    \n",
    "<li>Frame 1: Scenes of Jesus growing up in Egypt, engaging in learning and play, show his development in an inclusive environment.</li>\n",
    "<li>Frame 2: The family set against Egypt's backdrop, symbolizing their journey of resilience and the growth of understanding through adversity.</li>\n",
    "<li>Frame 3: Jesus reaching out to diverse individuals, including those with disabilities, illustrating his message of unconditional inclusion and empathy.</li>\n",
    "<li>Frame 4: A view of the Earth with a light from Egypt, representing Jesus' impact as Emmanuel, a beacon of hope and divine love for everyone, especially the marginalized and those with disabilities.</li>\n",
    "<li>Caption: \"As Jesus grows in Egypt, he embodies hope and the promise of 'God with us,' shining as a beacon of divine love, inclusion, and understanding for all, particularly embracing those with disabilities.\"</li>\n",
    "</ul>\n",
    "  \n",
    "<h4>Narakeet: Text to Audio</h4>\n",
    "<audio controls autoplay loop>\n",
    "<source type=\"audio/mp3\" src=\"Media/Audio/audio1.ogg\"></source>\n",
    "</audio>\n",
    "<p>An angel reveals to Joseph that Mary will bear Jesus, symbolizing 'God saves' and Emmanuel, 'God with us,'—a promise that extends God's inclusive love to all.</p>\n",
    "<audio controls autoplay loop>\n",
    "  <source src=\"Media/Audio/audio2.mp3\" type=\"audio/mpeg\">\n",
    "  Your browser does not support the audio tag.\n",
    "</audio>\n",
    "<p>Guided by a star, the wise men's journey mirrors the perseverance of individuals with disabilities in their quest for recognition and belonging. </p>\n",
    "<audio controls autoplay loop>\n",
    "  <source src=\"Media/Audio/audio3.mp3\" type=\"audio/mpeg\">\n",
    "  Your browser does not support the audio tag.\n",
    "</audio>\n",
    "<p>In Bethlehem, the wise men's gifts to Jesus celebrate his kingship and forthcoming sacrifices, symbolizing the embracing of all, including the marginalized.</p>\n",
    "<audio controls autoplay loop>\n",
    "  <source src=\"Media/Audio/audio4.mp3\" type=\"audio/mpeg\">\n",
    "  Your browser does not support the audio tag.\n",
    "</audio>\n",
    "<p>Fleeing to Egypt, the holy family’s journey mirrors the experiences of people with disabilities—facing societal threats with courage, guided by faith and divine protection.</p>\n",
    "<audio controls autoplay loop>\n",
    "  <source src=\"Media/Audio/audio5.mp3\" type=\"audio/mpeg\">\n",
    "  Your browser does not support the audio tag.\n",
    "</audio>\n",
    "<p>As Jesus grows in Egypt, he embodies hope and the promise of 'God with us,' shining as a beacon of divine love, inclusion, and understanding for all. </p>\n"
   ]
  },
  {
   "cell_type": "markdown",
   "id": "c3b7cce0-5af7-4e3e-92d8-101a4cdc5c0f",
   "metadata": {},
   "source": [
    "<p>Reflection Point: The persistent emphasis on disability in every caption, while intended to highlight inclusivity, risks simplifying the narrative’s rich theological and historical layers to fit a specific agenda, potentially overshadowing other meaningful interpretations. Reflecting on this, a more balanced focus might better serve to enrich the narrative, providing a deeper, multifaceted exploration of the biblical events, while still valuing the core intent to connect with and represent the experiences of individuals with disabilities. However, it is very understandable given that I needed very short descriptions that managed to balance both (this is very hard for me as a human as well, so who am i to judge this poor generative AI? Peace and love <3) \r\n",
    "\r\n",
    "The audio output is alright, but it does sound unnatural, but it is clear enough. It is a bit monotonous which affects storytelling—however, I do not have the ability to adjust that as a human because that is not an option on Narakeet.  </p>"
   ]
  },
  {
   "cell_type": "markdown",
   "id": "10b09dfa-856c-4e6a-b0c4-695d67b89cd3",
   "metadata": {},
   "source": [
    "<h3>Generating the Images</h3>\n",
    "<p>Prompt: This is the Script [from the previous step] . Generate images of this that demonstrate the scene. \n",
    "    <ul><li>Theme: Biblical</li> <li>Number of Images: 5.</li> <li>Image Ratio:16:9</li></ul></p>\n",
    "<p>[Interrupted]</p>\n",
    "<p>Prompt: Generate the images with the same conditions, incorporating themes of disability.</p>\n",
    "<p>Prompt: Generate alternative text for the images provided</p>\n",
    "<h4>Output</h4>\n",
    "<img src=\"Media/Storyboard/storyboard1.png\" alt\"Joseph stand in front of an angel\">\n",
    "<p>Alt text: A serene room lit by soft, celestial light. Joseph, wearing period-appropriate attire, stands awe-struck as an angel, radiating warmth and divine presence, communicates a divine message. The setting is a modest home in Nazareth, furnished simply to reflect the humble lifestyle of the time.</p>\n",
    "<img src=\"Media/Storyboard/storyboard2.png\" alt\"A group of men gaze towards a star in the desert\">\n",
    "<p>Alt text:Under a starry night sky in the desert, three wise men from different lands gaze towards a bright new star, signaling their quest for understanding and acceptance. They stand near their camels, ready to embark on a long journey. The scene is rendered in a biblical style, highlighting the rugged beauty of the landscape and the significance of their journey, with detailed attire and the radiant light from the star enhancing the narrative focus on inclusion. </p>\n",
    "\n",
    "<img src=\"Media/Storyboard/storyboard3.png\" alt=\"A group of men offer presents to a newborn Jesusin Mary's Arms\">\n",
    "<p>Alt text:Inside a humble dwelling in Bethlehem, the wise men present their symbolic gifts of gold, frankincense, and myrrh to newborn Jesus, who is cradled in Mary's arms, with Joseph standing protectively beside them. The room is modestly illuminated by a lantern, casting a serene glow over the group. Their expressions of gratitude, wonder, reverence, and joy capture the divine recognition and the breaking down of societal barriers. </p>\n",
    "\n",
    "<img src=\"Media/Storyboard/storyboard4.png\" alt=\"Image of an the holy family's journey to Egypt\">\n",
    "<p>Alt text:The holy family's night journey to Egypt is portrayed with an emphasis on resilience and inclusivity. Joseph, leading with a lantern and using a carved wooden cane, symbolizes determination. Mary follows, holding infant Jesus. They're accompanied by a donkey carrying belongings, under a starry sky, highlighting their silent, determined pursuit of safety and reflecting the experiences of those with disabilities navigating challenges for acceptance. </p>\n",
    "\n",
    "<img src=\"Media/Storyboard/storyboard5.png\" alt=\"A vibrant community with young Jesus and children. Some have visible disabilites.\">\n",
    "<p>Alt text:Depicting a vibrant community garden in Egypt, young Jesus is shown interacting with a diverse group of children, some with visible disabilities, in a warm, inclusive setting. They are engaged in activities that demonstrate acceptance, with Jesus helping another child with a mobility aid. This scene symbolizes growth, empathy, and the nurturing of an inclusive society where every individual is valued </p>\n"
   ]
  },
  {
   "cell_type": "markdown",
   "id": "9abe78d7-b25c-402b-8844-c7926963fd27",
   "metadata": {},
   "source": [
    "<p>Reflection Point: Oh wow, companies can no not use AI as a substitute for hiring disability specialists to fix their shortcomings. The alternative texts produced by these systems are very poor and unnecessarily long, highlighting the need for human intervention to ensure accessibility.</p>\n",
    "\n",
    "<p>These images are really impressive and they've done a great job sticking to the prompt and style. However, there’s a noticeable issue with the representation. Seeing predominantly white figures in scenes meant to depict the Middle East raises some big questions about the data the AI was trained on. It points to a likely bias in the training materials, which might not fully capture the true diversity of that region. It's a reminder of how important it is for AI developers to use diverse and inclusive data sets. This helps prevent stereotypes and ensures the AI's output is more accurate and representative of all communities.\r\n",
    "\r\n",
    "\r\n",
    "</p>"
   ]
  },
  {
   "cell_type": "markdown",
   "id": "5bab6a6a-fbaf-45b6-a143-681eab0190e2",
   "metadata": {},
   "source": [
    "<h2>Pika: Image to Video</h2>\n",
    "<p>Prompt: Image for the previous cell from the previous tasks in combination  from the narration ouput</p>\n",
    "<h3>Output</h3>\n",
    "<video controls autoplay loop>\n",
    "  <source src=\"Media/Video/video1.mp4\" type=\"video/mp4\">\n",
    "  Your browser does not support the video tag.\n",
    "</video>\n",
    "<video controls autoplay loop>\n",
    "  <source src=\"Media/Video/video2.mp4\" type=\"video/mp4\">\n",
    "  Your browser does not support the video tag.\n",
    "</video>\n",
    "<video controls autoplay loop>\n",
    "  <source src=\"Media/Video/video3.mp4\" type=\"video/mp4\">\n",
    "  Your browser does not support the video tag.\n",
    "</video>\n",
    "<video controls autoplay loop>\n",
    "  <source src=\"Media/Video/video4.mp4\" type=\"video/mp4\">\n",
    "  Your browser does not support the video tag.\n",
    "</video>\n",
    "<video controls autoplay loop>\n",
    "  <source src=\"Media/Video/video5.mp4\" type=\"video/mp4\">\n",
    "  Your browser does not support the video tag.\n",
    "</video>\n"
   ]
  },
  {
   "cell_type": "markdown",
   "id": "c7500c43-c89b-41ef-b749-972a16000a97",
   "metadata": {},
   "source": [
    "<p> Reflection Point: That really takes a leap. It's done an impressive job—the pictures move! This technology could make many designers' lives much easier. The only issue I noticed was that in the fourth video, the lantern appeared out of nowheere. It can also struggle a bit with facial recognition and smooth movements. However, the video output has been one of the most impressive in my opinion. I believe this because handling video data demands significant storage space. Here's a little fun information you might enjoy: although video technology has been evolving since the late 1990s, it was the advancements over the past decades that have allowed us to move away from traditional film strips more completely. <a href=\"https://legacybox.com/blogs/analog/when-did-movie-theaters-stop-using-film\"> It wasn't until 2013 that digitally shot films were more common than celluloid productions</a>.</p>"
   ]
  },
  {
   "cell_type": "markdown",
   "id": "4ebfed3b-f993-4bd3-a413-d04c073ffb35",
   "metadata": {},
   "source": [
    "<h3>Music Generation</h3>\n",
    "<h4>BibleGPT</h4>\n",
    "<p>I let the AI extension, MusicDraw, genate the music for this project. This needed me to decide the mood. I wanted AI to decide the narration it provided. Using the same tab of bibleGPT, following the conversation on Narratinon</p>\n",
    "<ul>\n",
    "    <li>Prompt: If I were to generate music, what suits this script in terms of mood, genre, & theme? Keep the answers short without an explanation</li>\n",
    "    <li>Output: Mood: Reflective, Uplifting, Hopeful; Genre: Orchestral, World Music, Ambient; Theme: Divine Journey, Universal Inclusion, Resilience</li>\n",
    "</ul>\n",
    "</p>\n",
    "<h4>Music Generation</h4>\n",
    "<p> I adjusted the music based on these moods. Although I cannot export the output as an audio file since it is based on Canva, it can be seen in the video that is about to follow this.</p>\r\n"
   ]
  },
  {
   "cell_type": "markdown",
   "id": "20526aeb-3436-4870-add0-4c50fbe469f2",
   "metadata": {},
   "source": [
    "<h3> Combining the final output</h3>\n",
    "<div style=\"position: relative; width: 100%; height: 0; padding-top: 56.2500%;\r\n",
    " padding-bottom: 0; box-shadow: 0 2px 8px 0 rgba(63,69,81,0.16); margin-top: 1.6em; margin-bottom: 0.9em; overflow: hidden;\r\n",
    " border-radius: 8px; will-change: transform;\">\r\n",
    "  <iframe loading=\"lazy\" style=\"position: absolute; width: 100%; height: 100%; top: 0; left: 0; border: none; padding: 0;margin: 0;\"\r\n",
    "    src=\"https:&#x2F;&#x2F;www.canva.com&#x2F;design&#x2F;DAGB7zsL3bg&#x2F;9AonE0RkRKqQ3iWdzx6k0A&#x2F;watch?embed\" allowfullscreen=\"allowfullscreen\" allow=\"fullscreen\">\r\n",
    "  </iframe>\r\n",
    "</div>\r\n",
    "<a href=\"https:&#x2F;&#x2F;www.canva.com&#x2F;design&#x2F;DAGB7zsL3bg&#x2F;9AonE0RkRKqQ3iWdzx6k0A&#x2F;watch?utm_content=DAGB7zsL3bg&amp;utm_campaign=designshare&amp;utm_medium=embeds&amp;utm_source=link\" target=\"_blank\" rel=\"noopener\">2667785_ucheeri"
   ]
  },
  {
   "cell_type": "markdown",
   "id": "a69c411e-ab86-451b-b630-545279e457c5",
   "metadata": {},
   "source": [
    "<p>As we come to the final reflection point for the video, fellow readers, lets see how this looks so far! My involvement goes beyond mere supervision at this point in the project! Time to critically assess what I did rather than boss the machine around and tell it what to do. I adjusted the narrative flow and timing within the video to ensure they deeply resonate and flow smoothly AI significantly enhances the product given that it did most of what is usually human labour. However, lets not get too excited and rely on generative AI! AI also brings sustainability concerns due to the energy resources it consumes, leading to a notable carbon footprint. A (not so) fun fact is that ChatGPT is a sponge! Chatgpt gulps up <a href=\"https://apnews.com/article/chatgpt-gpt4-iowa-ai-water-consumption-microsoft-f551fde98083d17a7e8d904f8be822c4\">500 milliliters of water every time you ask it a series of between 5 to 50 prompts or questions</a>. Additionally, as we integrate AI into our creative processes, we must navigate copyright issues carefully, ensuring our innovations respect intellectual property laws and contribute positively to the creative community. Especially in my approach with no code and using existing models, we need to be considerate! Let us continue to push the boundaries of what we mean by creativity while also being mindful that these technologies do not exist in a vaccumm.Let us ntot fall into the pits of technological determinism. \n",
    "\r\n",
    "</p>"
   ]
  },
  {
   "cell_type": "markdown",
   "id": "2aaeb82e-7032-49a8-9367-4d508164a207",
   "metadata": {
    "jp-MarkdownHeadingCollapsed": true
   },
   "source": [
    "<h3>Generate the Commentary</h3>\n",
    "<h4>Input</h4>\n",
    "<p>Prompt: Given this script [], and these images [], in relation to a Raised Type New Testament, generate commentary for a cultural heritage setting</p>\n",
    "<p>[Interrputed]</p>\n",
    "<p>Prompt: Keep it concise, to elaborate on the piece, in a place like a musuem </p>\n",
    "<p>Prompt: Speak to museum visitors </p>\n",
    "<h4>Output</h4>\n",
    "<p>\n",
    "As you wander through the galleries, I invite you to pause and reflect on the powerful images before you, drawn from the Raised Type New Testament. Each scene is a tapestry of light, color, and narrative, breathing new life into timeless stories.\n",
    "\n",
    "Picture Joseph in his humble abode, where an angel’s message heralds a future where every person is cherished. It’s a scene that speaks to the heart, asking us to consider the depth of acceptance and faith.\n",
    "\n",
    "Now, turn your gaze to the wise men under the stars. Their journey, laden with gifts and hope, symbolizes the search for connection that transcends all barriers.\n",
    "\n",
    "Look further to the Holy Family's flight, a poignant reminder of the resilience in the face of adversity. It’s an echo of the journeys many still undertake, seeking a place where differences are not just recognized but embraced.\n",
    "\n",
    "Here, the Raised Type New Testament isn't just a text; it's a conversation between eras, between the seen and unseen, inviting us all to find the sacred in the spectrum of the human experience. Let these images be a reminder that everyone has a story, and every story holds a place in the halls of history and the corridors of our collective consciousness.</p>\n",
    "<h4>Editing</h4>\n",
    "<h5>This how this could look like in a gallery to explain the object and the video.</h5>\n",
    "<p>The Raised Type New Testament is a conversation between eras, between the seen and unseen, inviting us all to appreciate the sacred in the spectrum of the human experience. The object shows that everyone has a story, and every story holds a place in the halls of history. </p>\n",
    "<h4>Braille Conversion</h4>\n",
    "<p>⠠⠞⠓⠑⠀⠠⠗⠁⠊⠎⠑⠙⠀⠠⠞⠽⠏⠑⠀⠠⠝⠑⠺⠀⠠⠞⠑⠎⠞⠁⠍⠑⠝⠞⠀⠊⠎⠀⠁⠀⠉⠕⠝⠧⠑⠗⠎⠁⠞⠊⠕⠝⠀⠃⠑⠞⠺⠑⠑⠝⠀⠑⠗⠁⠎⠂⠀⠃⠑⠞⠺⠑⠑⠝⠀⠞⠓⠑⠀⠎⠑⠑⠝⠀⠁⠝⠙⠀⠥⠝⠎⠑⠑⠝⠂⠀⠊⠝⠧⠊⠞⠊⠝⠛⠀⠥⠎⠀⠁⠇⠇⠀⠞⠕⠀⠁⠏⠏⠗⠑⠉⠊⠁⠞⠑⠀⠞⠓⠑⠀⠎⠁⠉⠗⠑⠙⠀⠊⠝⠀⠞⠓⠑⠀⠎⠏⠑⠉⠞⠗⠥⠍⠀⠕⠋⠀⠞⠓⠑⠀⠓⠥⠍⠁⠝⠀⠑⠭⠏⠑⠗⠊⠑⠝⠉⠑⠲⠀⠠⠞⠓⠑⠀⠕⠃⠚⠑⠉⠞⠀⠎⠓⠕⠺⠎⠀⠞⠓⠁⠞⠀⠑⠧⠑⠗⠽⠕⠝⠑⠀⠓⠁⠎⠀⠁⠀⠎⠞⠕⠗⠽⠂⠀⠁⠝⠙⠀⠑⠧⠑⠗⠽⠀⠎⠞⠕⠗⠽⠀⠓⠕⠇⠙⠎⠀⠁⠀⠏⠇⠁⠉⠑⠀⠊⠝⠀⠞⠓⠑⠀⠓⠁⠇⠇⠎⠀⠕⠋⠀⠓⠊⠎⠞⠕⠗⠽⠲\n",
    "</p>"
   ]
  },
  {
   "cell_type": "markdown",
   "id": "8d32bc45-b2c1-4b64-9784-3f4777c5987d",
   "metadata": {},
   "source": [
    "<h2>Discussion & Conclusion</h2>\n",
    "<p>The use of generative AI in communicating the Raised Type New Testament into accessible formats holds potential but also presents unique challenges. Effectiveness can be assessed through user engagement and feedback from many backgrounds, including museum curators, theologists, the disabled community, and content creators ensuring that these new formats truly meet their needs. While AI can facilitate the creation of accessible religious content, it also raises concerns about the accuracy and sensitivity of these translations. There is a risk of oversimplification or misinterpretation when complex theological concepts are automatically translated into different formats. Integrating technology with traditional religious practices offers opportunities to reach a broader audience and enrich their spiritual experiences, but it also necessitates ongoing dialogue between technologists, theologians, and the community to ensure that the essence of the scripture is preserved and conveyed accurately. </p>\n",
    "\n",
    "<p>Reinterpreting religious texts can pose social, ethical, and theological questions. Socially, the initiative could promote greater inclusion within religious communities, offering disabled individuals more direct and meaningful engagement with these texts. However, as the project promised to show the object beyond religion, socially it shows how disabled people were not discussed in terms of Christianity history. Ethically, the project navigates the delicate balance of modifying sacred texts to be more inclusive while respecting their original message Theologically, this approach could prompt a re-evaluation of traditional interpretations of scriptures, especially concerning views on disability. Maintaining the integrity of the original texts while ensuring they are accessible and relevant to all, including people with disabilities, requires careful consideration of the language and methods used in such adaptations.  </p>\n",
    "\n",
    "<p>The Raised Type New Testament is an excellent demonstration of how religion, disability, and technology have intersected before. This project mirrors that, to intersect them once again, instead of printing it uses generative AI. This project not only have broadened accessibility of communicating the object, but also challenges traditional models of religious engagement. </p>"
   ]
  },
  {
   "cell_type": "markdown",
   "id": "6959bec5-584d-42bd-8e64-3347cb6df285",
   "metadata": {
    "jp-MarkdownHeadingCollapsed": true
   },
   "source": [
    "<h2>Final Reflection</h2>\n",
    "<p>Reflecting on creating this project, it has opened a new way to look at biblical stories. We've reconsidered traditional narratives with a theme of disability, inspired by the context of the Raised Type New Testament. In each storyboard, I aimed to show not just scenes from the Bible but also to bring out disability representation. This might have come across very superficial and perhaps socially accurate, but it considers the recurrent question in history—where are all the disabled people? This project wasn't just about digital arts or storytelling; it was about digging deeper into how we see and represent people in the stories we tell. By looking at these old stories through a new lens, this portfolio invites everyone to think differently about who is remembered and who is overlooked. It's a call to recognize that people of all abilities have always been part of our history and our lives; especially in social spaces like museums. </p>\n",
    "<p>This project required much more thinking in terms of ideas rather than the implementation. In my personal judgement and my peer support groups', this project met the objectives. Credit needs to be given when its due: many thanks to my peer support group for splitting the cost together for a GPT-4 account. An extra thanks goes for your support, continous feedback, and more importantly keeping my project aligned with my chosen objects.</p>"
   ]
  },
  {
   "cell_type": "markdown",
   "id": "37823202-7861-4fe2-8054-7fa020d7c15b",
   "metadata": {},
   "source": [
    "<h2>Wider Implications and Further Resources</h2>\n",
    "<h3>Copyright</h3>\n",
    "<li>Copyright in generative AI is <a href=\"https://digitalcommons.unl.edu/cgi/viewcontent.cgi?article=1245&context=scholcom\">controversial topic</a> where ownership of the output generated by machine learning models is contingent on factors such as the input data, human creative input, autonomy of the model, contractual agreements, and the application of fair use principles. Determining copyright ownership becomes intricate when considering the influence of training data, the extent of human involvement in the generation process, and the evolving legal interpretations surrounding AI-generated content. In this case of this project, I used Dall-e, owned by OpenAI that are not transparent of their training data. There is a pressing need for robust legal and ethical frameworks to clarify ownership, attribution, licensing, and fair use practices, ensuring that the rights of creators and users are appropriately balanced in the digital age. Here's an interesting opinion piece to read about OpenAI's <a href=\"https://www.cyberdemon.org/2023/04/03/openai-transparency.html\">lack of transperancy</a>. </li>\n",
    "<h3>Enviornmental Impact</h3>\n",
    "<li>What happens behind the scenes with generative AI is frequently overlooked; generative AI has considerable effects on the environment. This highlights the importance of refining prompts to achieve the desired results without excessive generation. This constraint influenced the extent of my experimentation with various prompts and my efforts to replicate results. For future reference, it might be better to conduct further readings on each model and the art of prompt crafting. This challenge extends beyond GANs, as each programming language carries its environmental footprint related to processing. Therefore, before fully transitioning to AI applications with art, it is crucial to enhance our comprehension of how to interact with these technologies efficiently. </li> Read more on\n",
    "<a href=\"https://inria.hal.science/hal-04346102/\">estimating the environmental impact of Generative-AI services using an LCA-based methodology</a>\n",
    "\n",
    "    \n",
    "<h3>Projects and Resources on AI Art </h3>\n",
    "<ul>\n",
    "<li><a href=\"https://annaridler.com/myriad-tulips\">Myriad (Tulips) by Anna Ridler</a></li>\n",
    "<li><a href=\"https://www.serpentinegalleries.org/whats-on/refik-anadol-echoes-of-the-earth-living-archive/\">Echoes of the Earth: Living Archive by Refik Anadol</a></li>\n",
    "<li><a href=\"https://www.jakeelwes.com/project-zizi-2019.html\">Queering the Dataset by Jake Elwes</a></li>\n",
    "<li><a href=\"https://youtu.be/7RFD8cCYw7o?si=NiG7h4-fgPJdBuco\">Short film: 'The First' by Luca Viganò & Ali Hossaini</a></li>\n",
    "</ul>"
   ]
  }
 ],
 "metadata": {
  "kernelspec": {
   "display_name": "Python 3 (ipykernel)",
   "language": "python",
   "name": "python3"
  },
  "language_info": {
   "codemirror_mode": {
    "name": "ipython",
    "version": 3
   },
   "file_extension": ".py",
   "mimetype": "text/x-python",
   "name": "python",
   "nbconvert_exporter": "python",
   "pygments_lexer": "ipython3",
   "version": "3.11.5"
  }
 },
 "nbformat": 4,
 "nbformat_minor": 5
}
